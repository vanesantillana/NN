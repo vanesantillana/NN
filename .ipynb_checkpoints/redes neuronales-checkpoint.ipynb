{
 "cells": [
  {
   "cell_type": "markdown",
   "metadata": {},
   "source": [
    "# Redes Neuronales"
   ]
  },
  {
   "cell_type": "code",
   "execution_count": 1,
   "metadata": {},
   "outputs": [],
   "source": [
    "import numpy as np\n",
    "import matplotlib.pyplot as plt\n",
    "import pandas as pd \n",
    "from scipy import optimize"
   ]
  },
  {
   "cell_type": "code",
   "execution_count": 2,
   "metadata": {},
   "outputs": [],
   "source": [
    "csv_x = 'xy/x.csv'\n",
    "csv_y = 'xy/y.csv'\n",
    "csv_theta1 = 'theta/theta1.csv'\n",
    "csv_theta2 = 'theta/theta2.csv'"
   ]
  },
  {
   "cell_type": "markdown",
   "metadata": {},
   "source": [
    "### Gradiente con sigmoide"
   ]
  },
  {
   "cell_type": "code",
   "execution_count": 3,
   "metadata": {},
   "outputs": [],
   "source": [
    "def sigmoid(a):\n",
    "    return 1.0 / (1 + np.exp(-a))\n",
    "\n",
    "def gradiente(x , y, theta, alpha, iterations):\n",
    "    m = x.shape[0]\n",
    "    for i in range(n_iterations):\n",
    "        h = sigmoid(np.matmul(x, theta))\n",
    "        grad = np.matmul(x.T, (h - y)) / m;\n",
    "        theta = theta - alpha * grad\n",
    "    return theta"
   ]
  },
  {
   "cell_type": "markdown",
   "metadata": {},
   "source": [
    "### Convert a Array"
   ]
  },
  {
   "cell_type": "code",
   "execution_count": 4,
   "metadata": {},
   "outputs": [
    {
     "data": {
      "text/plain": [
       "(5000, 400)"
      ]
     },
     "execution_count": 4,
     "metadata": {},
     "output_type": "execute_result"
    }
   ],
   "source": [
    "X = np.genfromtxt(csv_x, delimiter=',')\n",
    "X.shape"
   ]
  },
  {
   "cell_type": "code",
   "execution_count": 5,
   "metadata": {},
   "outputs": [
    {
     "data": {
      "text/plain": [
       "(25, 401)"
      ]
     },
     "execution_count": 5,
     "metadata": {},
     "output_type": "execute_result"
    }
   ],
   "source": [
    "Theta1 = np.genfromtxt(csv_theta1, delimiter=',')\n",
    "Theta1.shape"
   ]
  },
  {
   "cell_type": "code",
   "execution_count": 6,
   "metadata": {},
   "outputs": [
    {
     "data": {
      "text/plain": [
       "(10, 26)"
      ]
     },
     "execution_count": 6,
     "metadata": {},
     "output_type": "execute_result"
    }
   ],
   "source": [
    "Theta2 = np.genfromtxt(csv_theta2, delimiter=',')\n",
    "Theta2.shape"
   ]
  },
  {
   "cell_type": "code",
   "execution_count": 7,
   "metadata": {},
   "outputs": [
    {
     "data": {
      "text/plain": [
       "(5000,)"
      ]
     },
     "execution_count": 7,
     "metadata": {},
     "output_type": "execute_result"
    }
   ],
   "source": [
    "Y = np.genfromtxt(csv_y, delimiter=',')\n",
    "Y.shape"
   ]
  },
  {
   "cell_type": "markdown",
   "metadata": {},
   "source": [
    "### Fordward"
   ]
  },
  {
   "cell_type": "code",
   "execution_count": 8,
   "metadata": {},
   "outputs": [],
   "source": [
    "def forward(x, theta1, theta2):\n",
    "    #capa 1\n",
    "    bias1 = np.ones((x.shape[0],1))\n",
    "    a1 = np.append(bias1,x, axis=1)\n",
    "    \n",
    "    #capa2\n",
    "    z2 = np.dot(a1,theta1.T)\n",
    "    a2 = sigmoid(z2)\n",
    "    a2 = np.append(np.ones((a2.shape[0],1)),a2, axis=1)\n",
    "    \n",
    "    #capa3\n",
    "    z3 = np.dot(a2,theta2.T)\n",
    "    a3 = sigmoid(z3)\n",
    "    #result = np.argmax(a3,axis=1).T\n",
    "    result={'a1': a1, 'a2':a2, 'a3':a3, 'z2':z2, 'z3':z3}\n",
    "    \n",
    "    return result"
   ]
  },
  {
   "cell_type": "code",
   "execution_count": 9,
   "metadata": {},
   "outputs": [],
   "source": [
    "def precision(res, y):\n",
    "    contador = 0\n",
    "    for i in range(res.shape[0]) :\n",
    "        #print('mi y res[i]: ',res[i]+1,' mi y: ',y[i])\n",
    "        if ((res[i]+1) == Y[i]):\n",
    "            contador +=1\n",
    "    \n",
    "    print(\"Mi precision: \",(contador*100.0)/res.shape[0])"
   ]
  },
  {
   "cell_type": "code",
   "execution_count": 10,
   "metadata": {},
   "outputs": [],
   "source": [
    "def init_weight(input_layer, out_layer):\n",
    "    return np.random.rand(out_layer,input_layer+1)\n",
    "#p = init_weight(400,25)\n",
    "#p.shape"
   ]
  },
  {
   "cell_type": "code",
   "execution_count": 11,
   "metadata": {},
   "outputs": [],
   "source": [
    "def create_Y(y, out_size, m):\n",
    "    yn = np.zeros((m, out_size))\n",
    "    for i in range(m):\n",
    "        yn[i][int(y[i])%10] = 1\n",
    "    return yn"
   ]
  },
  {
   "cell_type": "markdown",
   "metadata": {},
   "source": [
    "### Gradient Computation"
   ]
  },
  {
   "cell_type": "code",
   "execution_count": 12,
   "metadata": {},
   "outputs": [],
   "source": [
    "def gradiente_prima(z):\n",
    "    gz = sigmoid(z)\n",
    "    return gz * (1-gz);"
   ]
  },
  {
   "cell_type": "code",
   "execution_count": 13,
   "metadata": {},
   "outputs": [],
   "source": [
    "def compute_gradient_reg(ford, yv, m, theta1, theta2):    \n",
    "    a1 = ford['a1']\n",
    "    a2 = ford['a2']\n",
    "    a3 = ford['a3']\n",
    "    z2 = ford['z2']\n",
    "    z3 = ford['z3']\n",
    "        \n",
    "    d3 = a3 - yv\n",
    "    d2 = np.dot(d3,theta2) * gradiente_prima(np.append(np.ones((z2.shape[0],1)),z2, axis=1)) #5000*26\n",
    "    d2 = d2[:,1:] #quita la 1era columna\n",
    "    delta1 = np.dot(d2.T,a1)\n",
    "    delta2 = np.dot(d3.T,a2)\n",
    "    \n",
    "    grad1 = delta1/m\n",
    "    grad2 = delta2/m\n",
    "    #grad = np.c_[grad1.reshape(1,grad1.size),grad2.reshape(1,grad2.size)].T\n",
    "    \n",
    "    return grad1,grad2"
   ]
  },
  {
   "cell_type": "code",
   "execution_count": 30,
   "metadata": {},
   "outputs": [
    {
     "name": "stdout",
     "output_type": "stream",
     "text": [
      "(5000, 10)\n"
     ]
    }
   ],
   "source": [
    "ford = forward(X,Theta1,Theta2)\n",
    "print(ford['a3'].shape)\n",
    "M = X.shape[0]"
   ]
  },
  {
   "cell_type": "code",
   "execution_count": 31,
   "metadata": {},
   "outputs": [
    {
     "name": "stdout",
     "output_type": "stream",
     "text": [
      "[[ 2.79735891e-02  0.00000000e+00  0.00000000e+00 ...  1.30777128e-06\n",
      "  -6.57607989e-08  0.00000000e+00]\n",
      " [ 5.54008990e-02  0.00000000e+00  0.00000000e+00 ... -1.41195676e-08\n",
      "  -3.23769408e-09  0.00000000e+00]\n",
      " [-5.03474149e-02  0.00000000e+00  0.00000000e+00 ...  1.06099077e-07\n",
      "  -1.07579151e-08  0.00000000e+00]\n",
      " ...\n",
      " [-4.05443337e-02  0.00000000e+00  0.00000000e+00 ...  1.04246805e-07\n",
      "  -9.77208218e-09  0.00000000e+00]\n",
      " [ 1.35098829e-03  0.00000000e+00  0.00000000e+00 ... -3.54938562e-06\n",
      "   2.70914200e-07  0.00000000e+00]\n",
      " [ 1.26176636e-02  0.00000000e+00  0.00000000e+00 ...  1.90723614e-07\n",
      "  -1.95289910e-08  0.00000000e+00]]\n",
      "(25, 401)\n"
     ]
    }
   ],
   "source": [
    "grad1,grad2 = compute_gradient_reg(ford,Y,M,Theta1,Theta2)\n",
    "print(grad1)\n",
    "print(grad1.shape)"
   ]
  },
  {
   "cell_type": "code",
   "execution_count": 14,
   "metadata": {},
   "outputs": [],
   "source": [
    "def compute_cost_reg(theta1, theta2, X, yNew, parametroLambda):\n",
    "    m = X.shape[0]\n",
    "    a1 = np.c_[np.ones((m,1)),X]\n",
    "    \n",
    "    z2 = np.dot(a1,theta1.T)\n",
    "    a2 = np.c_[np.ones((z2.shape[0],1)),sigmoid(z2)]\n",
    "    \n",
    "    z3 = np.dot(a2,theta2.T)\n",
    "    a3 = sigmoid(z3)\n",
    "    \n",
    "    h = a3\n",
    "    reg = np.sum(np.power(theta1[:,1:],2))+np.sum(np.power(theta2[:,1:],2))\n",
    "    J = (-np.sum(yNew * np.log(h)) - np.sum((1-yNew)* np.log(1-h)) + parametroLambda*reg/2)/m\n",
    "    \n",
    "    return J"
   ]
  },
  {
   "cell_type": "code",
   "execution_count": 39,
   "metadata": {},
   "outputs": [
    {
     "data": {
      "text/plain": [
       "10.442421079717274"
      ]
     },
     "execution_count": 39,
     "metadata": {},
     "output_type": "execute_result"
    }
   ],
   "source": [
    "cost = compute_cost_reg(Theta1, Theta2, X, Y, 0.01)\n",
    "cost"
   ]
  },
  {
   "cell_type": "code",
   "execution_count": null,
   "metadata": {},
   "outputs": [],
   "source": []
  },
  {
   "cell_type": "markdown",
   "metadata": {},
   "source": [
    "### NN"
   ]
  },
  {
   "cell_type": "code",
   "execution_count": 19,
   "metadata": {},
   "outputs": [],
   "source": [
    "def modelo(x, Y, hidden_layer, t1_, t2_, iteraciones, rad_apre, lamda):\n",
    "    #creo thetas\n",
    "    y = create_Y(Y, 10, x.shape[0])\n",
    "    input_layer = x.shape[1]\n",
    "    out_layer = y.shape[1]\n",
    "    m = x.shape[0]\n",
    "    \n",
    "    #t1 = init_weight(input_layer, hidden_layer)\n",
    "    #t2 = init_weight(hidden_layer, out_layer)\n",
    "    t1=t1_\n",
    "    t2=t2_\n",
    "    for i in range(iteraciones):\n",
    "        ford = forward(x,t1,t2)\n",
    "        grad1,grad2 = compute_gradient_reg(ford, y, m, t1, t2)\n",
    "        precision(np.argmax(ford['a3'],axis=1), Y)\n",
    "        \n",
    "        t1 = t1 - rad_apre * grad1\n",
    "        t2 = t2 - rad_apre * grad2\n",
    "        \n",
    "        h = ford['a3']\n",
    "        reg = np.sum(np.power(t1[:,1:],2))+np.sum(np.power(t2[:,1:],2))\n",
    "        J = (-np.sum(y * np.log(h)) - np.sum((1-y)* np.log(1-h)) + lamda*reg/2)/m\n",
    "        \n",
    "        print (i,\" iteracion con costo: \",J)        \n",
    "    "
   ]
  },
  {
   "cell_type": "code",
   "execution_count": 20,
   "metadata": {},
   "outputs": [
    {
     "name": "stdout",
     "output_type": "stream",
     "text": [
      "10.0\n",
      "0  iteracion con costo:  116.27113608989927\n",
      "10.0\n",
      "1  iteracion con costo:  9.944677903505527\n",
      "10.0\n",
      "2  iteracion con costo:  7.430209386654789\n",
      "10.0\n",
      "3  iteracion con costo:  5.161969011111173\n",
      "10.0\n",
      "4  iteracion con costo:  3.8008673213280337\n",
      "10.0\n",
      "5  iteracion con costo:  3.371517267104449\n",
      "10.0\n",
      "6  iteracion con costo:  3.363059270736265\n",
      "10.0\n",
      "7  iteracion con costo:  3.408237335762826\n",
      "10.0\n",
      "8  iteracion con costo:  3.386251467928506\n",
      "10.0\n",
      "9  iteracion con costo:  3.4271152585992453\n",
      "10.0\n",
      "10  iteracion con costo:  3.4014618085097426\n",
      "10.0\n",
      "11  iteracion con costo:  3.439980082181767\n",
      "10.16\n",
      "12  iteracion con costo:  3.419288979572282\n",
      "10.08\n",
      "13  iteracion con costo:  3.454542142182924\n",
      "10.1\n",
      "14  iteracion con costo:  3.4363874309949964\n",
      "10.02\n",
      "15  iteracion con costo:  3.4778114299323164\n",
      "10.28\n",
      "16  iteracion con costo:  3.449921422279062\n",
      "10.1\n",
      "17  iteracion con costo:  3.503831417764363\n",
      "10.04\n",
      "18  iteracion con costo:  3.4612833880360143\n",
      "9.96\n",
      "19  iteracion con costo:  3.5158156688235533\n",
      "10.4\n",
      "20  iteracion con costo:  3.4733217396191596\n",
      "9.94\n",
      "21  iteracion con costo:  3.5184979614909104\n",
      "7.86\n",
      "22  iteracion con costo:  3.480213169321495\n",
      "10.0\n",
      "23  iteracion con costo:  3.518683775526977\n",
      "10.98\n",
      "24  iteracion con costo:  3.480623129954603\n",
      "9.94\n",
      "25  iteracion con costo:  3.518668260604436\n",
      "10.96\n",
      "26  iteracion con costo:  3.4805891026561127\n",
      "9.88\n",
      "27  iteracion con costo:  3.5186696486962648\n",
      "10.96\n",
      "28  iteracion con costo:  3.4805921490703806\n",
      "9.94\n",
      "29  iteracion con costo:  3.518669524926588\n",
      "10.96\n",
      "30  iteracion con costo:  3.4805918777141125\n",
      "9.94\n",
      "31  iteracion con costo:  3.518669535711082\n",
      "10.96\n",
      "32  iteracion con costo:  3.4805919016522187\n",
      "9.94\n",
      "33  iteracion con costo:  3.5186695345150163\n",
      "10.96\n",
      "34  iteracion con costo:  3.480591899295077\n",
      "9.94\n",
      "35  iteracion con costo:  3.5186695343856322\n",
      "10.96\n",
      "36  iteracion con costo:  3.4805918992793536\n",
      "9.94\n",
      "37  iteracion con costo:  3.518669534161273\n",
      "10.96\n",
      "38  iteracion con costo:  3.480591899055136\n",
      "9.94\n",
      "39  iteracion con costo:  3.5186695339453626\n",
      "10.96\n",
      "40  iteracion con costo:  3.4805918988494806\n",
      "9.94\n",
      "41  iteracion con costo:  3.5186695337286933\n",
      "10.96\n",
      "42  iteracion con costo:  3.480591898642169\n",
      "9.94\n",
      "43  iteracion con costo:  3.5186695335120866\n",
      "10.96\n",
      "44  iteracion con costo:  3.480591898434997\n",
      "9.94\n",
      "45  iteracion con costo:  3.518669533295465\n",
      "10.96\n",
      "46  iteracion con costo:  3.480591898227809\n",
      "9.94\n",
      "47  iteracion con costo:  3.518669533078836\n",
      "10.96\n",
      "48  iteracion con costo:  3.4805918980206165\n",
      "9.94\n",
      "49  iteracion con costo:  3.5186695328622046\n",
      "10.96\n",
      "50  iteracion con costo:  3.4805918978134205\n",
      "9.94\n",
      "51  iteracion con costo:  3.518669532645563\n",
      "10.96\n",
      "52  iteracion con costo:  3.4805918976062205\n",
      "9.94\n",
      "53  iteracion con costo:  3.5186695324289206\n",
      "10.96\n",
      "54  iteracion con costo:  3.4805918973990146\n",
      "9.94\n",
      "55  iteracion con costo:  3.518669532212268\n",
      "10.96\n",
      "56  iteracion con costo:  3.4805918971918044\n",
      "9.94\n",
      "57  iteracion con costo:  3.5186695319956094\n",
      "10.96\n",
      "58  iteracion con costo:  3.4805918969845924\n",
      "9.94\n",
      "59  iteracion con costo:  3.5186695317789463\n",
      "10.96\n",
      "60  iteracion con costo:  3.4805918967773715\n",
      "9.94\n",
      "61  iteracion con costo:  3.518669531562276\n",
      "10.96\n",
      "62  iteracion con costo:  3.480591896570151\n",
      "9.94\n",
      "63  iteracion con costo:  3.5186695313455996\n",
      "10.96\n",
      "64  iteracion con costo:  3.480591896362921\n",
      "9.94\n",
      "65  iteracion con costo:  3.5186695311289142\n",
      "10.96\n",
      "66  iteracion con costo:  3.480591896155692\n",
      "9.94\n",
      "67  iteracion con costo:  3.5186695309122276\n",
      "10.96\n",
      "68  iteracion con costo:  3.4805918959484545\n",
      "9.94\n",
      "69  iteracion con costo:  3.518669530695535\n",
      "10.96\n",
      "70  iteracion con costo:  3.480591895741214\n",
      "9.94\n",
      "71  iteracion con costo:  3.5186695304788294\n",
      "10.96\n",
      "72  iteracion con costo:  3.4805918955339687\n",
      "9.94\n",
      "73  iteracion con costo:  3.5186695302621236\n",
      "10.96\n",
      "74  iteracion con costo:  3.4805918953267194\n",
      "9.94\n",
      "75  iteracion con costo:  3.5186695300454094\n",
      "10.96\n",
      "76  iteracion con costo:  3.480591895119465\n",
      "9.94\n",
      "77  iteracion con costo:  3.51866952982869\n",
      "10.96\n",
      "78  iteracion con costo:  3.4805918949122066\n",
      "9.94\n",
      "79  iteracion con costo:  3.5186695296119614\n",
      "10.96\n",
      "80  iteracion con costo:  3.480591894704944\n",
      "9.94\n",
      "81  iteracion con costo:  3.5186695293952317\n",
      "10.96\n",
      "82  iteracion con costo:  3.480591894497676\n",
      "9.94\n",
      "83  iteracion con costo:  3.5186695291784904\n",
      "10.96\n",
      "84  iteracion con costo:  3.480591894290405\n",
      "9.94\n",
      "85  iteracion con costo:  3.518669528961748\n",
      "10.96\n",
      "86  iteracion con costo:  3.480591894083128\n",
      "9.94\n",
      "87  iteracion con costo:  3.5186695287449954\n",
      "10.96\n",
      "88  iteracion con costo:  3.480591893875847\n",
      "9.94\n",
      "89  iteracion con costo:  3.5186695285282372\n",
      "10.96\n",
      "90  iteracion con costo:  3.4805918936685614\n",
      "9.94\n",
      "91  iteracion con costo:  3.5186695283114737\n",
      "10.96\n",
      "92  iteracion con costo:  3.4805918934612747\n",
      "9.94\n",
      "93  iteracion con costo:  3.5186695280947053\n",
      "10.96\n",
      "94  iteracion con costo:  3.4805918932539774\n",
      "9.94\n",
      "95  iteracion con costo:  3.5186695278779263\n",
      "10.96\n",
      "96  iteracion con costo:  3.48059189304668\n",
      "9.94\n",
      "97  iteracion con costo:  3.5186695276611464\n",
      "10.96\n",
      "98  iteracion con costo:  3.4805918928393775\n",
      "9.94\n",
      "99  iteracion con costo:  3.5186695274443553\n"
     ]
    }
   ],
   "source": [
    "modelo(X,Y,25,Theta1,Theta2,100, 0.977, 0.001)"
   ]
  },
  {
   "cell_type": "markdown",
   "metadata": {},
   "source": [
    "### Train"
   ]
  },
  {
   "cell_type": "code",
   "execution_count": 16,
   "metadata": {},
   "outputs": [],
   "source": [
    "def train (x,y,lam= 1.0 , hidden_layer_size = 10):\n",
    "    input_layer_size = x.shape[1]\n",
    "    num_labels = unique(y).shape[0]\n",
    "    \n",
    "    initial_theta1 = randInitializeWeights(input_layer_size, hidden_layer_size)\n",
    "    initial_theta2 = randInitializeWeights(hidden_layer_size, num_labels)\n",
    "    "
   ]
  },
  {
   "cell_type": "code",
   "execution_count": 17,
   "metadata": {},
   "outputs": [],
   "source": [
    "fla_t1 = Theta1.flatten('F')\n",
    "fla_t2 = Theta2.flatten('F')\n"
   ]
  },
  {
   "cell_type": "code",
   "execution_count": 18,
   "metadata": {},
   "outputs": [],
   "source": [
    "initial_nn_params = np.append(fla_t1, fla_t2)\n",
    "initial_nn_params = np.reshape(initial_nn_params,(len(initial_nn_params),))"
   ]
  },
  {
   "cell_type": "code",
   "execution_count": 19,
   "metadata": {},
   "outputs": [
    {
     "ename": "IndexError",
     "evalue": "only integers, slices (`:`), ellipsis (`...`), numpy.newaxis (`None`) and integer or boolean arrays are valid indices",
     "output_type": "error",
     "traceback": [
      "\u001b[0;31m---------------------------------------------------------------------------\u001b[0m",
      "\u001b[0;31mIndexError\u001b[0m                                Traceback (most recent call last)",
      "\u001b[0;32m<ipython-input-19-18ba7697a163>\u001b[0m in \u001b[0;36m<module>\u001b[0;34m()\u001b[0m\n\u001b[1;32m      1\u001b[0m \u001b[0;34m\u001b[0m\u001b[0m\n\u001b[0;32m----> 2\u001b[0;31m \u001b[0mnn_params\u001b[0m\u001b[0;34m,\u001b[0m \u001b[0mcost\u001b[0m \u001b[0;34m=\u001b[0m \u001b[0moptimize\u001b[0m\u001b[0;34m.\u001b[0m\u001b[0mfmin_cg\u001b[0m\u001b[0;34m(\u001b[0m\u001b[0;32mlambda\u001b[0m \u001b[0mt\u001b[0m\u001b[0;34m:\u001b[0m \u001b[0mcompute_cost_reg\u001b[0m\u001b[0;34m(\u001b[0m\u001b[0mTheta1\u001b[0m\u001b[0;34m,\u001b[0m\u001b[0mTheta2\u001b[0m\u001b[0;34m,\u001b[0m\u001b[0mX\u001b[0m\u001b[0;34m,\u001b[0m\u001b[0mY\u001b[0m\u001b[0;34m,\u001b[0m\u001b[0;36m1.0\u001b[0m\u001b[0;34m)\u001b[0m\u001b[0;34m,\u001b[0m \u001b[0minitial_nn_params\u001b[0m\u001b[0;34m,\u001b[0m \u001b[0mgtol\u001b[0m \u001b[0;34m=\u001b[0m \u001b[0;36m0.001\u001b[0m\u001b[0;34m,\u001b[0m \u001b[0mmaxiter\u001b[0m\u001b[0;34m=\u001b[0m\u001b[0;36m50\u001b[0m\u001b[0;34m,\u001b[0m \u001b[0mfull_output\u001b[0m \u001b[0;34m=\u001b[0m \u001b[0;36m1\u001b[0m\u001b[0;34m)\u001b[0m\u001b[0;34m[\u001b[0m\u001b[0;36m0\u001b[0m\u001b[0;34m,\u001b[0m\u001b[0;36m1\u001b[0m\u001b[0;34m]\u001b[0m\u001b[0;34m\u001b[0m\u001b[0m\n\u001b[0m",
      "\u001b[0;32m~/anaconda3/lib/python3.6/site-packages/scipy/optimize/optimize.py\u001b[0m in \u001b[0;36mfmin_cg\u001b[0;34m(f, x0, fprime, args, gtol, norm, epsilon, maxiter, full_output, disp, retall, callback)\u001b[0m\n\u001b[1;32m   1205\u001b[0m             'return_all': retall}\n\u001b[1;32m   1206\u001b[0m \u001b[0;34m\u001b[0m\u001b[0m\n\u001b[0;32m-> 1207\u001b[0;31m     \u001b[0mres\u001b[0m \u001b[0;34m=\u001b[0m \u001b[0m_minimize_cg\u001b[0m\u001b[0;34m(\u001b[0m\u001b[0mf\u001b[0m\u001b[0;34m,\u001b[0m \u001b[0mx0\u001b[0m\u001b[0;34m,\u001b[0m \u001b[0margs\u001b[0m\u001b[0;34m,\u001b[0m \u001b[0mfprime\u001b[0m\u001b[0;34m,\u001b[0m \u001b[0mcallback\u001b[0m\u001b[0;34m=\u001b[0m\u001b[0mcallback\u001b[0m\u001b[0;34m,\u001b[0m \u001b[0;34m**\u001b[0m\u001b[0mopts\u001b[0m\u001b[0;34m)\u001b[0m\u001b[0;34m\u001b[0m\u001b[0m\n\u001b[0m\u001b[1;32m   1208\u001b[0m \u001b[0;34m\u001b[0m\u001b[0m\n\u001b[1;32m   1209\u001b[0m     \u001b[0;32mif\u001b[0m \u001b[0mfull_output\u001b[0m\u001b[0;34m:\u001b[0m\u001b[0;34m\u001b[0m\u001b[0m\n",
      "\u001b[0;32m~/anaconda3/lib/python3.6/site-packages/scipy/optimize/optimize.py\u001b[0m in \u001b[0;36m_minimize_cg\u001b[0;34m(fun, x0, args, jac, callback, gtol, norm, eps, maxiter, disp, return_all, **unknown_options)\u001b[0m\n\u001b[1;32m   1256\u001b[0m     \u001b[0;32melse\u001b[0m\u001b[0;34m:\u001b[0m\u001b[0;34m\u001b[0m\u001b[0m\n\u001b[1;32m   1257\u001b[0m         \u001b[0mgrad_calls\u001b[0m\u001b[0;34m,\u001b[0m \u001b[0mmyfprime\u001b[0m \u001b[0;34m=\u001b[0m \u001b[0mwrap_function\u001b[0m\u001b[0;34m(\u001b[0m\u001b[0mfprime\u001b[0m\u001b[0;34m,\u001b[0m \u001b[0margs\u001b[0m\u001b[0;34m)\u001b[0m\u001b[0;34m\u001b[0m\u001b[0m\n\u001b[0;32m-> 1258\u001b[0;31m     \u001b[0mgfk\u001b[0m \u001b[0;34m=\u001b[0m \u001b[0mmyfprime\u001b[0m\u001b[0;34m(\u001b[0m\u001b[0mx0\u001b[0m\u001b[0;34m)\u001b[0m\u001b[0;34m\u001b[0m\u001b[0m\n\u001b[0m\u001b[1;32m   1259\u001b[0m     \u001b[0mk\u001b[0m \u001b[0;34m=\u001b[0m \u001b[0;36m0\u001b[0m\u001b[0;34m\u001b[0m\u001b[0m\n\u001b[1;32m   1260\u001b[0m     \u001b[0mxk\u001b[0m \u001b[0;34m=\u001b[0m \u001b[0mx0\u001b[0m\u001b[0;34m\u001b[0m\u001b[0m\n",
      "\u001b[0;32m~/anaconda3/lib/python3.6/site-packages/scipy/optimize/optimize.py\u001b[0m in \u001b[0;36mfunction_wrapper\u001b[0;34m(*wrapper_args)\u001b[0m\n\u001b[1;32m    290\u001b[0m     \u001b[0;32mdef\u001b[0m \u001b[0mfunction_wrapper\u001b[0m\u001b[0;34m(\u001b[0m\u001b[0;34m*\u001b[0m\u001b[0mwrapper_args\u001b[0m\u001b[0;34m)\u001b[0m\u001b[0;34m:\u001b[0m\u001b[0;34m\u001b[0m\u001b[0m\n\u001b[1;32m    291\u001b[0m         \u001b[0mncalls\u001b[0m\u001b[0;34m[\u001b[0m\u001b[0;36m0\u001b[0m\u001b[0;34m]\u001b[0m \u001b[0;34m+=\u001b[0m \u001b[0;36m1\u001b[0m\u001b[0;34m\u001b[0m\u001b[0m\n\u001b[0;32m--> 292\u001b[0;31m         \u001b[0;32mreturn\u001b[0m \u001b[0mfunction\u001b[0m\u001b[0;34m(\u001b[0m\u001b[0;34m*\u001b[0m\u001b[0;34m(\u001b[0m\u001b[0mwrapper_args\u001b[0m \u001b[0;34m+\u001b[0m \u001b[0margs\u001b[0m\u001b[0;34m)\u001b[0m\u001b[0;34m)\u001b[0m\u001b[0;34m\u001b[0m\u001b[0m\n\u001b[0m\u001b[1;32m    293\u001b[0m \u001b[0;34m\u001b[0m\u001b[0m\n\u001b[1;32m    294\u001b[0m     \u001b[0;32mreturn\u001b[0m \u001b[0mncalls\u001b[0m\u001b[0;34m,\u001b[0m \u001b[0mfunction_wrapper\u001b[0m\u001b[0;34m\u001b[0m\u001b[0m\n",
      "\u001b[0;32m~/anaconda3/lib/python3.6/site-packages/scipy/optimize/optimize.py\u001b[0m in \u001b[0;36mapprox_fprime\u001b[0;34m(xk, f, epsilon, *args)\u001b[0m\n\u001b[1;32m    701\u001b[0m \u001b[0;34m\u001b[0m\u001b[0m\n\u001b[1;32m    702\u001b[0m     \"\"\"\n\u001b[0;32m--> 703\u001b[0;31m     \u001b[0;32mreturn\u001b[0m \u001b[0m_approx_fprime_helper\u001b[0m\u001b[0;34m(\u001b[0m\u001b[0mxk\u001b[0m\u001b[0;34m,\u001b[0m \u001b[0mf\u001b[0m\u001b[0;34m,\u001b[0m \u001b[0mepsilon\u001b[0m\u001b[0;34m,\u001b[0m \u001b[0margs\u001b[0m\u001b[0;34m=\u001b[0m\u001b[0margs\u001b[0m\u001b[0;34m)\u001b[0m\u001b[0;34m\u001b[0m\u001b[0m\n\u001b[0m\u001b[1;32m    704\u001b[0m \u001b[0;34m\u001b[0m\u001b[0m\n\u001b[1;32m    705\u001b[0m \u001b[0;34m\u001b[0m\u001b[0m\n",
      "\u001b[0;32m~/anaconda3/lib/python3.6/site-packages/scipy/optimize/optimize.py\u001b[0m in \u001b[0;36m_approx_fprime_helper\u001b[0;34m(xk, f, epsilon, args, f0)\u001b[0m\n\u001b[1;32m    635\u001b[0m     \"\"\"\n\u001b[1;32m    636\u001b[0m     \u001b[0;32mif\u001b[0m \u001b[0mf0\u001b[0m \u001b[0;32mis\u001b[0m \u001b[0;32mNone\u001b[0m\u001b[0;34m:\u001b[0m\u001b[0;34m\u001b[0m\u001b[0m\n\u001b[0;32m--> 637\u001b[0;31m         \u001b[0mf0\u001b[0m \u001b[0;34m=\u001b[0m \u001b[0mf\u001b[0m\u001b[0;34m(\u001b[0m\u001b[0;34m*\u001b[0m\u001b[0;34m(\u001b[0m\u001b[0;34m(\u001b[0m\u001b[0mxk\u001b[0m\u001b[0;34m,\u001b[0m\u001b[0;34m)\u001b[0m \u001b[0;34m+\u001b[0m \u001b[0margs\u001b[0m\u001b[0;34m)\u001b[0m\u001b[0;34m)\u001b[0m\u001b[0;34m\u001b[0m\u001b[0m\n\u001b[0m\u001b[1;32m    638\u001b[0m     \u001b[0mgrad\u001b[0m \u001b[0;34m=\u001b[0m \u001b[0mnumpy\u001b[0m\u001b[0;34m.\u001b[0m\u001b[0mzeros\u001b[0m\u001b[0;34m(\u001b[0m\u001b[0;34m(\u001b[0m\u001b[0mlen\u001b[0m\u001b[0;34m(\u001b[0m\u001b[0mxk\u001b[0m\u001b[0;34m)\u001b[0m\u001b[0;34m,\u001b[0m\u001b[0;34m)\u001b[0m\u001b[0;34m,\u001b[0m \u001b[0mfloat\u001b[0m\u001b[0;34m)\u001b[0m\u001b[0;34m\u001b[0m\u001b[0m\n\u001b[1;32m    639\u001b[0m     \u001b[0mei\u001b[0m \u001b[0;34m=\u001b[0m \u001b[0mnumpy\u001b[0m\u001b[0;34m.\u001b[0m\u001b[0mzeros\u001b[0m\u001b[0;34m(\u001b[0m\u001b[0;34m(\u001b[0m\u001b[0mlen\u001b[0m\u001b[0;34m(\u001b[0m\u001b[0mxk\u001b[0m\u001b[0;34m)\u001b[0m\u001b[0;34m,\u001b[0m\u001b[0;34m)\u001b[0m\u001b[0;34m,\u001b[0m \u001b[0mfloat\u001b[0m\u001b[0;34m)\u001b[0m\u001b[0;34m\u001b[0m\u001b[0m\n",
      "\u001b[0;32m~/anaconda3/lib/python3.6/site-packages/scipy/optimize/optimize.py\u001b[0m in \u001b[0;36mfunction_wrapper\u001b[0;34m(*wrapper_args)\u001b[0m\n\u001b[1;32m    290\u001b[0m     \u001b[0;32mdef\u001b[0m \u001b[0mfunction_wrapper\u001b[0m\u001b[0;34m(\u001b[0m\u001b[0;34m*\u001b[0m\u001b[0mwrapper_args\u001b[0m\u001b[0;34m)\u001b[0m\u001b[0;34m:\u001b[0m\u001b[0;34m\u001b[0m\u001b[0m\n\u001b[1;32m    291\u001b[0m         \u001b[0mncalls\u001b[0m\u001b[0;34m[\u001b[0m\u001b[0;36m0\u001b[0m\u001b[0;34m]\u001b[0m \u001b[0;34m+=\u001b[0m \u001b[0;36m1\u001b[0m\u001b[0;34m\u001b[0m\u001b[0m\n\u001b[0;32m--> 292\u001b[0;31m         \u001b[0;32mreturn\u001b[0m \u001b[0mfunction\u001b[0m\u001b[0;34m(\u001b[0m\u001b[0;34m*\u001b[0m\u001b[0;34m(\u001b[0m\u001b[0mwrapper_args\u001b[0m \u001b[0;34m+\u001b[0m \u001b[0margs\u001b[0m\u001b[0;34m)\u001b[0m\u001b[0;34m)\u001b[0m\u001b[0;34m\u001b[0m\u001b[0m\n\u001b[0m\u001b[1;32m    293\u001b[0m \u001b[0;34m\u001b[0m\u001b[0m\n\u001b[1;32m    294\u001b[0m     \u001b[0;32mreturn\u001b[0m \u001b[0mncalls\u001b[0m\u001b[0;34m,\u001b[0m \u001b[0mfunction_wrapper\u001b[0m\u001b[0;34m\u001b[0m\u001b[0m\n",
      "\u001b[0;32m<ipython-input-19-18ba7697a163>\u001b[0m in \u001b[0;36m<lambda>\u001b[0;34m(t)\u001b[0m\n\u001b[1;32m      1\u001b[0m \u001b[0;34m\u001b[0m\u001b[0m\n\u001b[0;32m----> 2\u001b[0;31m \u001b[0mnn_params\u001b[0m\u001b[0;34m,\u001b[0m \u001b[0mcost\u001b[0m \u001b[0;34m=\u001b[0m \u001b[0moptimize\u001b[0m\u001b[0;34m.\u001b[0m\u001b[0mfmin_cg\u001b[0m\u001b[0;34m(\u001b[0m\u001b[0;32mlambda\u001b[0m \u001b[0mt\u001b[0m\u001b[0;34m:\u001b[0m \u001b[0mcompute_cost_reg\u001b[0m\u001b[0;34m(\u001b[0m\u001b[0mTheta1\u001b[0m\u001b[0;34m,\u001b[0m\u001b[0mTheta2\u001b[0m\u001b[0;34m,\u001b[0m\u001b[0mX\u001b[0m\u001b[0;34m,\u001b[0m\u001b[0mY\u001b[0m\u001b[0;34m,\u001b[0m\u001b[0;36m1.0\u001b[0m\u001b[0;34m)\u001b[0m\u001b[0;34m,\u001b[0m \u001b[0minitial_nn_params\u001b[0m\u001b[0;34m,\u001b[0m \u001b[0mgtol\u001b[0m \u001b[0;34m=\u001b[0m \u001b[0;36m0.001\u001b[0m\u001b[0;34m,\u001b[0m \u001b[0mmaxiter\u001b[0m\u001b[0;34m=\u001b[0m\u001b[0;36m50\u001b[0m\u001b[0;34m,\u001b[0m \u001b[0mfull_output\u001b[0m \u001b[0;34m=\u001b[0m \u001b[0;36m1\u001b[0m\u001b[0;34m)\u001b[0m\u001b[0;34m[\u001b[0m\u001b[0;36m0\u001b[0m\u001b[0;34m,\u001b[0m\u001b[0;36m1\u001b[0m\u001b[0;34m]\u001b[0m\u001b[0;34m\u001b[0m\u001b[0m\n\u001b[0m",
      "\u001b[0;32m<ipython-input-14-3803d688f948>\u001b[0m in \u001b[0;36mcompute_cost_reg\u001b[0;34m(theta1, theta2, X, y, parametroLambda)\u001b[0m\n\u001b[1;32m     11\u001b[0m     \u001b[0myNew\u001b[0m \u001b[0;34m=\u001b[0m \u001b[0mnp\u001b[0m\u001b[0;34m.\u001b[0m\u001b[0mzeros\u001b[0m\u001b[0;34m(\u001b[0m\u001b[0ma3\u001b[0m\u001b[0;34m.\u001b[0m\u001b[0mshape\u001b[0m\u001b[0;34m)\u001b[0m\u001b[0;34m\u001b[0m\u001b[0m\n\u001b[1;32m     12\u001b[0m     \u001b[0;32mfor\u001b[0m \u001b[0mi\u001b[0m \u001b[0;32min\u001b[0m \u001b[0mrange\u001b[0m\u001b[0;34m(\u001b[0m\u001b[0mm\u001b[0m\u001b[0;34m)\u001b[0m\u001b[0;34m:\u001b[0m\u001b[0;34m\u001b[0m\u001b[0m\n\u001b[0;32m---> 13\u001b[0;31m         \u001b[0myNew\u001b[0m\u001b[0;34m[\u001b[0m\u001b[0mi\u001b[0m\u001b[0;34m,\u001b[0m\u001b[0my\u001b[0m\u001b[0;34m[\u001b[0m\u001b[0mi\u001b[0m\u001b[0;34m]\u001b[0m\u001b[0;34m%\u001b[0m\u001b[0;36m10\u001b[0m\u001b[0;34m]\u001b[0m \u001b[0;34m=\u001b[0m \u001b[0;36m1\u001b[0m\u001b[0;34m\u001b[0m\u001b[0m\n\u001b[0m\u001b[1;32m     14\u001b[0m \u001b[0;34m\u001b[0m\u001b[0m\n\u001b[1;32m     15\u001b[0m     \u001b[0mh\u001b[0m \u001b[0;34m=\u001b[0m \u001b[0ma3\u001b[0m\u001b[0;34m\u001b[0m\u001b[0m\n",
      "\u001b[0;31mIndexError\u001b[0m: only integers, slices (`:`), ellipsis (`...`), numpy.newaxis (`None`) and integer or boolean arrays are valid indices"
     ]
    }
   ],
   "source": [
    "\n",
    "nn_params, cost = optimize.fmin_cg(lambda t: compute_cost_reg(Theta1,Theta2,X,Y,1.0), initial_nn_params, gtol = 0.001, maxiter=50, full_output = 1)[0,1]\n"
   ]
  }
 ],
 "metadata": {
  "kernelspec": {
   "display_name": "Python 3",
   "language": "python",
   "name": "python3"
  },
  "language_info": {
   "codemirror_mode": {
    "name": "ipython",
    "version": 3
   },
   "file_extension": ".py",
   "mimetype": "text/x-python",
   "name": "python",
   "nbconvert_exporter": "python",
   "pygments_lexer": "ipython3",
   "version": "3.6.4"
  }
 },
 "nbformat": 4,
 "nbformat_minor": 2
}
