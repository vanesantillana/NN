{
 "cells": [
  {
   "cell_type": "markdown",
   "metadata": {},
   "source": [
    "# Redes Neuronales"
   ]
  },
  {
   "cell_type": "code",
   "execution_count": 2,
   "metadata": {},
   "outputs": [],
   "source": [
    "import numpy as np\n",
    "import matplotlib.pyplot as plt\n",
    "import pandas as pd \n",
    "from scipy import optimize"
   ]
  },
  {
   "cell_type": "code",
   "execution_count": 3,
   "metadata": {},
   "outputs": [],
   "source": [
    "csv_x = 'xy/x.csv'\n",
    "csv_y = 'xy/y.csv'\n",
    "csv_theta1 = 'theta/theta1.csv'\n",
    "csv_theta2 = 'theta/theta2.csv'"
   ]
  },
  {
   "cell_type": "markdown",
   "metadata": {},
   "source": [
    "### sigmoide"
   ]
  },
  {
   "cell_type": "code",
   "execution_count": 4,
   "metadata": {},
   "outputs": [],
   "source": [
    "def sigmoid(a):\n",
    "    return 1.0 / (1 + np.exp(-a))"
   ]
  },
  {
   "cell_type": "markdown",
   "metadata": {},
   "source": [
    "### Convert to Array"
   ]
  },
  {
   "cell_type": "code",
   "execution_count": 5,
   "metadata": {},
   "outputs": [
    {
     "data": {
      "text/plain": [
       "(5000, 400)"
      ]
     },
     "execution_count": 5,
     "metadata": {},
     "output_type": "execute_result"
    }
   ],
   "source": [
    "X = np.genfromtxt(csv_x, delimiter=',')\n",
    "X.shape"
   ]
  },
  {
   "cell_type": "code",
   "execution_count": 6,
   "metadata": {},
   "outputs": [
    {
     "data": {
      "text/plain": [
       "(25, 401)"
      ]
     },
     "execution_count": 6,
     "metadata": {},
     "output_type": "execute_result"
    }
   ],
   "source": [
    "Theta1 = np.genfromtxt(csv_theta1, delimiter=',')\n",
    "Theta1.shape"
   ]
  },
  {
   "cell_type": "code",
   "execution_count": 7,
   "metadata": {},
   "outputs": [
    {
     "data": {
      "text/plain": [
       "(10, 26)"
      ]
     },
     "execution_count": 7,
     "metadata": {},
     "output_type": "execute_result"
    }
   ],
   "source": [
    "Theta2 = np.genfromtxt(csv_theta2, delimiter=',')\n",
    "Theta2.shape"
   ]
  },
  {
   "cell_type": "code",
   "execution_count": 8,
   "metadata": {},
   "outputs": [
    {
     "data": {
      "text/plain": [
       "(5000,)"
      ]
     },
     "execution_count": 8,
     "metadata": {},
     "output_type": "execute_result"
    }
   ],
   "source": [
    "Y = np.genfromtxt(csv_y, delimiter=',')\n",
    "Y.shape"
   ]
  },
  {
   "cell_type": "markdown",
   "metadata": {},
   "source": [
    "### Fordward"
   ]
  },
  {
   "cell_type": "code",
   "execution_count": 9,
   "metadata": {},
   "outputs": [],
   "source": [
    "def forward(x, theta1, theta2):\n",
    "    #capa 1\n",
    "    bias1 = np.ones((x.shape[0],1))\n",
    "    a1 = np.append(bias1,x, axis=1)\n",
    "    \n",
    "    #capa2\n",
    "    z2 = np.dot(a1,theta1.T)\n",
    "    a2 = sigmoid(z2)\n",
    "    a2 = np.append(np.ones((a2.shape[0],1)),a2, axis=1)\n",
    "    \n",
    "    #capa3\n",
    "    z3 = np.dot(a2,theta2.T)\n",
    "    a3 = sigmoid(z3)\n",
    "    #result = np.argmax(a3,axis=1).T\n",
    "    result={'a1': a1, 'a2':a2, 'a3':a3, 'z2':z2, 'z3':z3}\n",
    "    \n",
    "    return result"
   ]
  },
  {
   "cell_type": "code",
   "execution_count": 10,
   "metadata": {},
   "outputs": [],
   "source": [
    "def precision(res, y):\n",
    "    contador = 0\n",
    "    for i in range(res.shape[0]) :\n",
    "        if ((res[i]+1) == Y[i]):\n",
    "            contador +=1\n",
    "    \n",
    "    return (contador*100.0)/res.shape[0]"
   ]
  },
  {
   "cell_type": "code",
   "execution_count": 11,
   "metadata": {},
   "outputs": [],
   "source": [
    "def init_weight(input_layer, out_layer):\n",
    "    return np.random.rand(out_layer,input_layer+1) # + el bias"
   ]
  },
  {
   "cell_type": "code",
   "execution_count": 12,
   "metadata": {},
   "outputs": [],
   "source": [
    "#vectoriza lo que hay en Y\n",
    "def create_Y(y, out_size, m):\n",
    "    yn = np.zeros((m, out_size))\n",
    "    for i in range(m):\n",
    "        yn[i][int(y[i])%10] = 1\n",
    "    return yn"
   ]
  },
  {
   "cell_type": "markdown",
   "metadata": {},
   "source": [
    "### Gradient Computation"
   ]
  },
  {
   "cell_type": "code",
   "execution_count": 13,
   "metadata": {},
   "outputs": [],
   "source": [
    "def gradiente_prima(z):\n",
    "    gz = sigmoid(z)\n",
    "    return gz * (1-gz);"
   ]
  },
  {
   "cell_type": "code",
   "execution_count": 14,
   "metadata": {},
   "outputs": [],
   "source": [
    "def compute_gradient_reg(ford, yv, m, theta1, theta2):    \n",
    "    a1 = ford['a1']\n",
    "    a2 = ford['a2']\n",
    "    a3 = ford['a3']\n",
    "    z2 = ford['z2']\n",
    "    z3 = ford['z3']\n",
    "        \n",
    "    d3 = a3 - yv\n",
    "    d2 = np.dot(d3,theta2) * gradiente_prima(np.append(np.ones((z2.shape[0],1)),z2, axis=1)) #5000*26\n",
    "    d2 = d2[:,1:] #quita la 1era columna\n",
    "    delta1 = np.dot(d2.T,a1)\n",
    "    delta2 = np.dot(d3.T,a2)\n",
    "    \n",
    "    grad1 = delta1/m\n",
    "    grad2 = delta2/m\n",
    "    #grad = np.c_[grad1.reshape(1,grad1.size),grad2.reshape(1,grad2.size)].T\n",
    "    \n",
    "    return grad1,grad2"
   ]
  },
  {
   "cell_type": "code",
   "execution_count": 15,
   "metadata": {},
   "outputs": [],
   "source": [
    "def compute_cost_reg(theta1, theta2, X, Y, parametroLambda):\n",
    "    yNew = create_Y(Y, 10, X.shape[0])\n",
    "    m = X.shape[0]\n",
    "    a1 = np.c_[np.ones((m,1)),X]\n",
    "    \n",
    "    z2 = np.dot(a1,theta1.T)\n",
    "    a2 = np.c_[np.ones((z2.shape[0],1)),sigmoid(z2)]\n",
    "    \n",
    "    z3 = np.dot(a2,theta2.T)\n",
    "    a3 = sigmoid(z3)\n",
    "    \n",
    "    h = a3\n",
    "    reg = np.sum(np.power(theta1[:,1:],2))+np.sum(np.power(theta2[:,1:],2))\n",
    "    J = (-np.sum(yNew * np.log(h)) - np.sum((1-yNew)* np.log(1-h)) + parametroLambda*reg/2)/m\n",
    "    \n",
    "    return J"
   ]
  },
  {
   "cell_type": "code",
   "execution_count": 16,
   "metadata": {},
   "outputs": [
    {
     "data": {
      "text/plain": [
       "10.442421079717274"
      ]
     },
     "execution_count": 16,
     "metadata": {},
     "output_type": "execute_result"
    }
   ],
   "source": [
    "cost = compute_cost_reg(Theta1, Theta2, X, Y, 0.01)\n",
    "cost"
   ]
  },
  {
   "cell_type": "code",
   "execution_count": 17,
   "metadata": {},
   "outputs": [],
   "source": [
    "def compute_cost(A3, Y):\n",
    "    m = Y.shape[0] #(5000,10)\n",
    "    cost = (- 1 / m) * np.sum(np.sum(Y * np.log(A3) + (1 - Y) * (np.log(1 - A3)), axis=1), axis=0)\n",
    "    return cost"
   ]
  },
  {
   "cell_type": "markdown",
   "metadata": {},
   "source": [
    "### NN"
   ]
  },
  {
   "cell_type": "code",
   "execution_count": 18,
   "metadata": {},
   "outputs": [],
   "source": [
    "def session(x, y, hidden_layer, t1_, t2_, iteraciones, rate=1.5):\n",
    "    input_layer = x.shape[1]\n",
    "    out_layer = y.shape[1]\n",
    "    m = x.shape[0]\n",
    "    \n",
    "    w1 = init_weight(input_layer, hidden_layer)\n",
    "    w2 = init_weight(hidden_layer, out_layer)\n",
    "    #w1=t1_\n",
    "    #w2=t2_\n",
    "    for i in range(iteraciones):\n",
    "        ford = forward(x,w1,w2)\n",
    "        cost = compute_cost(ford['a3'], y)\n",
    "        grad1,grad2 = compute_gradient_reg(ford, y, m, w1, w2)\n",
    "        \n",
    "        w1 = w1 - (rate * grad1)\n",
    "        w2 = w2 - (rate * grad2)\n",
    "        \n",
    "        if i % 100 == 0:\n",
    "            print (i,\" iteracion con costo: \",cost)\n",
    "    return w1,w2\n",
    "    "
   ]
  },
  {
   "cell_type": "code",
   "execution_count": 19,
   "metadata": {},
   "outputs": [
    {
     "name": "stdout",
     "output_type": "stream",
     "text": [
      "0  iteracion con costo:  117.97497957757987\n",
      "100  iteracion con costo:  4.376518846756558\n",
      "200  iteracion con costo:  4.192341650232638\n",
      "300  iteracion con costo:  4.9427708645907\n",
      "400  iteracion con costo:  5.220238602488884\n",
      "500  iteracion con costo:  4.854993963734867\n",
      "600  iteracion con costo:  4.589799921109798\n",
      "700  iteracion con costo:  4.193290101165257\n",
      "800  iteracion con costo:  5.20523342803437\n",
      "900  iteracion con costo:  4.8801625269292535\n",
      "1000  iteracion con costo:  5.621068265760459\n",
      "1100  iteracion con costo:  5.8864796755267355\n",
      "1200  iteracion con costo:  5.981895342090294\n",
      "1300  iteracion con costo:  5.27383476476275\n",
      "1400  iteracion con costo:  4.345062780072135\n",
      "1500  iteracion con costo:  5.448558284915103\n",
      "1600  iteracion con costo:  4.520611357388399\n",
      "1700  iteracion con costo:  5.379266464544956\n",
      "1800  iteracion con costo:  4.78078436277266\n",
      "1900  iteracion con costo:  5.09636362174765\n"
     ]
    }
   ],
   "source": [
    "Y_vec = create_Y(Y, 10, X.shape[0])\n",
    "W1,W2 = session(X,Y_vec,25,Theta1,Theta2,2000)"
   ]
  },
  {
   "cell_type": "code",
   "execution_count": 20,
   "metadata": {},
   "outputs": [],
   "source": [
    "ford = forward(X, W1, W2)\n",
    "out = ford['a3']"
   ]
  },
  {
   "cell_type": "code",
   "execution_count": 27,
   "metadata": {},
   "outputs": [
    {
     "data": {
      "text/plain": [
       "array([[0.31861774, 0.18337279, 0.14433337, ..., 0.32320799, 0.31852503,\n",
       "        0.00178437],\n",
       "       [0.31861774, 0.18337279, 0.14433337, ..., 0.32320799, 0.31852503,\n",
       "        0.00178437],\n",
       "       [0.31861774, 0.18337279, 0.14433337, ..., 0.32320799, 0.31852503,\n",
       "        0.00178437],\n",
       "       ...,\n",
       "       [0.31861773, 0.1833728 , 0.14433338, ..., 0.323208  , 0.31852506,\n",
       "        0.00178438],\n",
       "       [0.31861774, 0.18337279, 0.14433337, ..., 0.32320799, 0.31852503,\n",
       "        0.00178437],\n",
       "       [0.31861774, 0.18337279, 0.14433337, ..., 0.32320799, 0.31852503,\n",
       "        0.00178437]])"
      ]
     },
     "execution_count": 27,
     "metadata": {},
     "output_type": "execute_result"
    }
   ],
   "source": [
    "matrix = np.zeros((10,10))\n",
    "predic = np.argmax(out,axis=1)\n",
    "out"
   ]
  },
  {
   "cell_type": "code",
   "execution_count": 23,
   "metadata": {},
   "outputs": [
    {
     "name": "stdout",
     "output_type": "stream",
     "text": [
      "[[  0.   0.   0.   0.   0.   0.   0.   0.   0.   0.]\n",
      " [  0.   0.   0.   0.   0.   0.   0.   0.   0.   0.]\n",
      " [  0.   0.   0.   0.   0.   0.   0.   0.   0.   0.]\n",
      " [  0.   0.   0.   0.   0.   0.   0.   0.   0.   0.]\n",
      " [  0.   0.   0.   0.   0.   0.   0.   0.   0.   0.]\n",
      " [  0.   0.   0.   0.   0.   0.   0.   0.   0.   0.]\n",
      " [  0.   0.   0.   0.   0.   0.   0.   0.   0.   0.]\n",
      " [  0.   0.   0.   0.   0.   0.   0.   0.   0.   0.]\n",
      " [  0.   0.   0.   0.   0.   0.   0.   0.   0.   0.]\n",
      " [500. 500. 500. 500. 500. 500. 500. 500. 500. 500.]]\n"
     ]
    }
   ],
   "source": [
    "mat_cross = np.zeros((10,10))\n",
    "prediccion = np.zeros((5000,1))\n",
    "for i in range(0,len(out)): #5000\n",
    "    for j in range(0,len(out[i])): #10\n",
    "        if out[i][j] > 0.5:\n",
    "            prediccion[i][0] = j + 1\n",
    "            \n",
    "for i in range(0,len(prediccion)):\n",
    "    _j = int(Y[i]-1) #valor real\n",
    "    _i = int(prediccion[i][0]-1) #valor predicho\n",
    "    mat_cross[_i][_j] += 1\n",
    "    \n",
    "print(mat_cross)"
   ]
  },
  {
   "cell_type": "code",
   "execution_count": null,
   "metadata": {},
   "outputs": [],
   "source": []
  }
 ],
 "metadata": {
  "kernelspec": {
   "display_name": "Python 3",
   "language": "python",
   "name": "python3"
  },
  "language_info": {
   "codemirror_mode": {
    "name": "ipython",
    "version": 3
   },
   "file_extension": ".py",
   "mimetype": "text/x-python",
   "name": "python",
   "nbconvert_exporter": "python",
   "pygments_lexer": "ipython3",
   "version": "3.6.4"
  }
 },
 "nbformat": 4,
 "nbformat_minor": 2
}
